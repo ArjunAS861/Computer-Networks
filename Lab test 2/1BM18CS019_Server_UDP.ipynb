{
 "cells": [
  {
   "cell_type": "code",
   "execution_count": 1,
   "metadata": {},
   "outputs": [],
   "source": [
    "import socket"
   ]
  },
  {
   "cell_type": "code",
   "execution_count": null,
   "metadata": {},
   "outputs": [
    {
     "name": "stdout",
     "output_type": "stream",
     "text": [
      "Server is up and Listening\n",
      "Request from Socket = ('169.254.40.5', 55313) recieved.\n",
      "Request Processed\n",
      "Response sent\n",
      "-----\n",
      "Request from Socket = ('169.254.40.5', 55316) recieved.\n",
      "Request cannot be processed\n",
      "Response sent\n",
      "-----\n",
      "Request from Socket = ('169.254.40.5', 53831) recieved.\n",
      "Request Processed\n",
      "Response sent\n",
      "-----\n"
     ]
    }
   ],
   "source": [
    "serversocket=socket.socket(socket.AF_INET,socket.SOCK_DGRAM)\n",
    "port=1028\n",
    "serversocket.bind((socket.gethostname(),1028))\n",
    "print(\"Server is up and Listening\")\n",
    "while True:\n",
    "    msg,addr=serversocket.recvfrom(1024)\n",
    "    print(f\"Request from Socket = {addr} recieved.\")\n",
    "    msg=msg.decode('utf-8')\n",
    "    try:\n",
    "        with open(msg,\"r\") as fd:\n",
    "            contents=fd.read()\n",
    "            print(\"Request Processed\")\n",
    "    except:\n",
    "        contents=\"File cannot be processed\"\n",
    "        print(\"Request cannot be processed\")\n",
    "    serversocket.sendto(bytes(contents,'utf-8'),addr)\n",
    "    print(\"Response sent\")\n",
    "    print(\"-\"*5)"
   ]
  },
  {
   "cell_type": "code",
   "execution_count": null,
   "metadata": {},
   "outputs": [],
   "source": []
  }
 ],
 "metadata": {
  "kernelspec": {
   "display_name": "Python 3",
   "language": "python",
   "name": "python3"
  },
  "language_info": {
   "codemirror_mode": {
    "name": "ipython",
    "version": 3
   },
   "file_extension": ".py",
   "mimetype": "text/x-python",
   "name": "python",
   "nbconvert_exporter": "python",
   "pygments_lexer": "ipython3",
   "version": "3.8.3"
  }
 },
 "nbformat": 4,
 "nbformat_minor": 4
}
