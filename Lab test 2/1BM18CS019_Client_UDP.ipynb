{
 "cells": [
  {
   "cell_type": "code",
   "execution_count": 1,
   "metadata": {},
   "outputs": [],
   "source": [
    "import socket"
   ]
  },
  {
   "cell_type": "code",
   "execution_count": 2,
   "metadata": {},
   "outputs": [],
   "source": [
    "def main():\n",
    "    clientsocket=socket.socket(socket.AF_INET,socket.SOCK_DGRAM)\n",
    "    port=1028\n",
    "    addr=('1',port)\n",
    "    print(\"Enter Filename:\")\n",
    "    request=input()\n",
    "    clientsocket.sendto(bytes(request,'utf-8'),addr)\n",
    "    print(f\"Request sent to Socket = {addr} \")\n",
    "    \n",
    "    msg,addr=clientsocket.recvfrom(2048)\n",
    "    \n",
    "    msg=msg.decode('utf-8')\n",
    "    \n",
    "    print(msg)\n"
   ]
  },
  {
   "cell_type": "code",
   "execution_count": 3,
   "metadata": {},
   "outputs": [
    {
     "name": "stdout",
     "output_type": "stream",
     "text": [
      "Enter Filename:\n",
      "Computer Network.txt\n",
      "Request sent to Socket = ('LAPTOP-DRI3RB13', 1028) \n",
      "A computer network is a group of computers that use a set of common communication protocols over digital \n",
      "interconnections for the purpose of sharing resources located on or provided by the network nodes. \n",
      "The interconnections between nodes are formed from a broad spectrum of telecommunication network \n",
      "technologies, based on physically wired, optical, and wireless radio-frequency methods that may \n",
      "be arranged in a variety of network topologies.\n",
      "\n",
      "The nodes of a computer network may be classified by many means as personal computers, servers,\n",
      " networking hardware, or general-purpose hosts. They are identified by hostnames and network addresses.\n",
      " Hostnames serve as memorable labels for the nodes, rarely changed after initial assignment. \n",
      "Network addresses serve for locating and identifying the nodes by communication protocols such \n",
      "as the Internet Protocol.\n",
      "\n",
      "Computer networks may be classified by many criteria, for example, the transmission medium used to\n",
      " carry signals, bandwidth, communications protocols to organize network traffic, the network size, \n",
      "the topology, traffic control mechanism, and organizational intent.\n",
      "\n",
      "Computer networks support many applications and services, such as access to the World Wide Web, \n",
      "digital video, digital audio, shared use of application and storage servers, printers, and \n",
      "fax machines, and use of email and instant messaging applications.\n"
     ]
    }
   ],
   "source": [
    "main()"
   ]
  },
  {
   "cell_type": "code",
   "execution_count": 4,
   "metadata": {},
   "outputs": [
    {
     "name": "stdout",
     "output_type": "stream",
     "text": [
      "Enter Filename:\n",
      "abc.txt\n",
      "Request sent to Socket = ('LAPTOP-DRI3RB13', 1028) \n",
      "File cannot be processed\n"
     ]
    }
   ],
   "source": [
    "main()"
   ]
  },
  {
   "cell_type": "code",
   "execution_count": 5,
   "metadata": {},
   "outputs": [
    {
     "name": "stdout",
     "output_type": "stream",
     "text": [
      "Enter Filename:\n",
      "Computer Network.txt\n",
      "Request sent to Socket = ('LAPTOP-DRI3RB13', 1028) \n",
      "A computer network is a group of computers that use a set of common communication protocols over digital \n",
      "interconnections for the purpose of sharing resources located on or provided by the network nodes. \n",
      "The interconnections between nodes are formed from a broad spectrum of telecommunication network \n",
      "technologies, based on physically wired, optical, and wireless radio-frequency methods that may \n",
      "be arranged in a variety of network topologies.\n",
      "\n",
      "The nodes of a computer network may be classified by many means as personal computers, servers,\n",
      " networking hardware, or general-purpose hosts. They are identified by hostnames and network addresses.\n",
      " Hostnames serve as memorable labels for the nodes, rarely changed after initial assignment. \n",
      "Network addresses serve for locating and identifying the nodes by communication protocols such \n",
      "as the Internet Protocol.\n",
      "\n",
      "Computer networks may be classified by many criteria, for example, the transmission medium used to\n",
      " carry signals, bandwidth, communications protocols to organize network traffic, the network size, \n",
      "the topology, traffic control mechanism, and organizational intent.\n",
      "\n",
      "Computer networks support many applications and services, such as access to the World Wide Web, \n",
      "digital video, digital audio, shared use of application and storage servers, printers, and \n",
      "fax machines, and use of email and instant messaging applications.\n"
     ]
    }
   ],
   "source": [
    "main()"
   ]
  },
  {
   "cell_type": "code",
   "execution_count": null,
   "metadata": {},
   "outputs": [],
   "source": []
  }
 ],
 "metadata": {
  "kernelspec": {
   "display_name": "Python 3",
   "language": "python",
   "name": "python3"
  },
  "language_info": {
   "codemirror_mode": {
    "name": "ipython",
    "version": 3
   },
   "file_extension": ".py",
   "mimetype": "text/x-python",
   "name": "python",
   "nbconvert_exporter": "python",
   "pygments_lexer": "ipython3",
   "version": "3.8.3"
  }
 },
 "nbformat": 4,
 "nbformat_minor": 4
}
