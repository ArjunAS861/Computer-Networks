{
 "cells": [
  {
   "cell_type": "code",
   "execution_count": 1,
   "metadata": {},
   "outputs": [],
   "source": [
    "import time\n",
    "class LeakyBucket:\n",
    "    def __init__(self,bucket_size,output_rate,packets):\n",
    "        self.bucket_size=bucket_size\n",
    "        self.output_rate=output_rate\n",
    "        self.packets=packets\n",
    "    def algorithm(self):\n",
    "        for i in range(len(self.packets)):\n",
    "            print(f\"Packet {i}  Size= {self.packets[i]}\")\n",
    "            \n",
    "            if self.packets[i]>self.bucket_size:\n",
    "                  print(\"\\tBucket Overflow.\")\n",
    "            else:\n",
    "                  time.sleep(1)\n",
    "                  while(self.packets[i]>=self.output_rate):\n",
    "                      print(\"\\t\",self.output_rate,\" bytes Outputted\")\n",
    "                      self.packets[i]-=self.output_rate\n",
    "                      time.sleep(1)\n",
    "                  if self.packets[i]:\n",
    "                      print(f\"\\tLast {self.packets[i]} bytes sent.\")\n",
    "                  print(\"\\tBucket Output Successfull.\")\n"
   ]
  },
  {
   "cell_type": "code",
   "execution_count": 2,
   "metadata": {},
   "outputs": [],
   "source": [
    "def main():\n",
    "                  bucket_size=int(input(\"Enter Bucket Size: \"))\n",
    "                  output_rate=int(input(\"Enter Output Rate: \"))\n",
    "                  packets=list(map(int,input(\"Enter Packets: \").split()))\n",
    "                  lb=LeakyBucket(bucket_size,output_rate,packets)\n",
    "                  lb.algorithm()\n"
   ]
  },
  {
   "cell_type": "code",
   "execution_count": 3,
   "metadata": {},
   "outputs": [
    {
     "name": "stdout",
     "output_type": "stream",
     "text": [
      "Enter Bucket Size: 100\n",
      "Enter Output Rate: 50\n",
      "Enter Packets: 10 50 49 110 98 112\n",
      "Packet 0  Size= 10\n",
      "\tLast 10 bytes sent.\n",
      "\tBucket Output Successfull.\n",
      "Packet 1  Size= 50\n",
      "\t 50  bytes Outputted\n",
      "\tBucket Output Successfull.\n",
      "Packet 2  Size= 49\n",
      "\tLast 49 bytes sent.\n",
      "\tBucket Output Successfull.\n",
      "Packet 3  Size= 110\n",
      "\tBucket Overflow.\n",
      "Packet 4  Size= 98\n",
      "\t 50  bytes Outputted\n",
      "\tLast 48 bytes sent.\n",
      "\tBucket Output Successfull.\n",
      "Packet 5  Size= 112\n",
      "\tBucket Overflow.\n"
     ]
    }
   ],
   "source": [
    "main()"
   ]
  },
  {
   "cell_type": "code",
   "execution_count": null,
   "metadata": {},
   "outputs": [],
   "source": []
  }
 ],
 "metadata": {
  "kernelspec": {
   "display_name": "Python 3",
   "language": "python",
   "name": "python3"
  },
  "language_info": {
   "codemirror_mode": {
    "name": "ipython",
    "version": 3
   },
   "file_extension": ".py",
   "mimetype": "text/x-python",
   "name": "python",
   "nbconvert_exporter": "python",
   "pygments_lexer": "ipython3",
   "version": "3.8.3"
  }
 },
 "nbformat": 4,
 "nbformat_minor": 4
}
